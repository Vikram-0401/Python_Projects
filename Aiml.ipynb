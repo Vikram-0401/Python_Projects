{
  "nbformat": 4,
  "nbformat_minor": 0,
  "metadata": {
    "colab": {
      "provenance": [],
      "authorship_tag": "ABX9TyO7TRwOePgMzqU2gFhGLJoW",
      "include_colab_link": true
    },
    "kernelspec": {
      "name": "python3",
      "display_name": "Python 3"
    },
    "language_info": {
      "name": "python"
    }
  },
  "cells": [
    {
      "cell_type": "markdown",
      "metadata": {
        "id": "view-in-github",
        "colab_type": "text"
      },
      "source": [
        "<a href=\"https://colab.research.google.com/github/Vikram-0401/Python_Projects/blob/main/Aiml.ipynb\" target=\"_parent\"><img src=\"https://colab.research.google.com/assets/colab-badge.svg\" alt=\"Open In Colab\"/></a>"
      ]
    },
    {
      "cell_type": "markdown",
      "source": [
        "# Python libraries"
      ],
      "metadata": {
        "id": "7miclkBIhJCR"
      }
    },
    {
      "cell_type": "markdown",
      "source": [
        "Numpy"
      ],
      "metadata": {
        "id": "DhEB-zu6uBNh"
      }
    },
    {
      "cell_type": "code",
      "source": [
        "import numpy as np\n",
        "\n",
        "temperatures = np.array([23.4, 34.5, 34, 34.6, 45])\n",
        "avg = np.mean(temperatures)\n",
        "print(avg)\n",
        "\n"
      ],
      "metadata": {
        "colab": {
          "base_uri": "https://localhost:8080/"
        },
        "id": "R1NtWwQruFN7",
        "outputId": "8dac65d9-5139-489d-aeb2-92e1dcf65680"
      },
      "execution_count": null,
      "outputs": [
        {
          "output_type": "stream",
          "name": "stdout",
          "text": [
            "34.3\n"
          ]
        }
      ]
    },
    {
      "cell_type": "code",
      "source": [
        "import numpy as np\n",
        "\n",
        "zeros = np.zeros(3)\n",
        "ones = np.ones(5)\n",
        "custom = np.full(4, 3)\n",
        "zeros_2d = np.zeros((2, 3))\n",
        "print(zeros)\n",
        "print(ones)\n",
        "print(custom)\n",
        "print(zeros_2d)"
      ],
      "metadata": {
        "colab": {
          "base_uri": "https://localhost:8080/"
        },
        "id": "8SCUw57wz7DS",
        "outputId": "36a0075e-dfed-4bd7-cdc9-6ac2f68782b6"
      },
      "execution_count": null,
      "outputs": [
        {
          "output_type": "stream",
          "name": "stdout",
          "text": [
            "[0. 0. 0.]\n",
            "[1. 1. 1. 1. 1.]\n",
            "[3 3 3 3]\n",
            "[[0. 0. 0.]\n",
            " [0. 0. 0.]]\n"
          ]
        }
      ]
    },
    {
      "cell_type": "code",
      "source": [
        "import numpy as np\n",
        "\n",
        "identity_matrix = np.eye(3)\n",
        "print(identity_matrix)"
      ],
      "metadata": {
        "colab": {
          "base_uri": "https://localhost:8080/"
        },
        "id": "5wJRU3aJzTkw",
        "outputId": "c03ae47a-d07b-466e-b6a4-6f243154cef0"
      },
      "execution_count": null,
      "outputs": [
        {
          "output_type": "stream",
          "name": "stdout",
          "text": [
            "[[1. 0. 0.]\n",
            " [0. 1. 0.]\n",
            " [0. 0. 1.]]\n"
          ]
        }
      ]
    },
    {
      "cell_type": "code",
      "source": [
        "import numpy as np\n",
        "\n",
        "arr = np.array([1, 2, 3, 4, 5])\n",
        "print(arr)"
      ],
      "metadata": {
        "colab": {
          "base_uri": "https://localhost:8080/"
        },
        "id": "hAOcW1FPzhmz",
        "outputId": "f8830c14-464e-4277-dbd0-0d06401bbb24"
      },
      "execution_count": null,
      "outputs": [
        {
          "output_type": "stream",
          "name": "stdout",
          "text": [
            "[1 2 3 4 5]\n"
          ]
        }
      ]
    },
    {
      "cell_type": "code",
      "source": [
        "import numpy as np\n",
        "\n",
        "arr = np.arange(1, 10, 2)\n",
        "print(arr)"
      ],
      "metadata": {
        "colab": {
          "base_uri": "https://localhost:8080/"
        },
        "id": "GdjFJA6MzpBr",
        "outputId": "328b9db4-45bd-44ad-ecae-e694ffb1c29d"
      },
      "execution_count": null,
      "outputs": [
        {
          "output_type": "stream",
          "name": "stdout",
          "text": [
            "[1 3 5 7 9]\n"
          ]
        }
      ]
    },
    {
      "cell_type": "markdown",
      "source": [
        "Numpy array properties"
      ],
      "metadata": {
        "id": "MZXz6Bl801Y5"
      }
    },
    {
      "cell_type": "code",
      "source": [
        "# shape -> check the dimension of the multi dimension array\n",
        "import numpy as np\n",
        "\n",
        "arr_2d = np.array([[2,3],\n",
        "                   [4,5],\n",
        "                   [2,5]])\n",
        "print(arr_2d.shape)"
      ],
      "metadata": {
        "colab": {
          "base_uri": "https://localhost:8080/"
        },
        "id": "UhT6GxJH03_J",
        "outputId": "48eaef3a-ee15-455c-a1a2-7bfe006b2a33"
      },
      "execution_count": null,
      "outputs": [
        {
          "output_type": "stream",
          "name": "stdout",
          "text": [
            "(3, 2)\n"
          ]
        }
      ]
    },
    {
      "cell_type": "code",
      "source": [
        "# size -> size of the array\n",
        "\n",
        "import numpy as np\n",
        "\n",
        "arr = np.array([1,2,3,4,5])\n",
        "print(arr.size)"
      ],
      "metadata": {
        "colab": {
          "base_uri": "https://localhost:8080/"
        },
        "id": "H0PH-nfI1pJw",
        "outputId": "7b191824-88e2-4c33-a594-27f70dc366eb"
      },
      "execution_count": null,
      "outputs": [
        {
          "output_type": "stream",
          "name": "stdout",
          "text": [
            "5\n"
          ]
        }
      ]
    },
    {
      "cell_type": "code",
      "source": [
        "# ndim -> Number of dimension\n",
        "\n",
        "import numpy as np\n",
        "\n",
        "arr_1d = np.array([1,2,4,5,6])\n",
        "arr_2d = np.array([[2,3],\n",
        "                   [4,5],\n",
        "                   [2,5]])\n",
        "arr_3d = np.array([[[1,2],\n",
        "                    [3,4]],\n",
        "                   [[5,6],\n",
        "                    [7,8]]])\n",
        "print(arr_1d.ndim)\n",
        "print(arr_2d.ndim)\n",
        "print(arr_3d.ndim)\n"
      ],
      "metadata": {
        "colab": {
          "base_uri": "https://localhost:8080/"
        },
        "id": "F5aG2zFU1wrA",
        "outputId": "ffb8d8bd-0217-48ed-c6be-4904646a75cf"
      },
      "execution_count": null,
      "outputs": [
        {
          "output_type": "stream",
          "name": "stdout",
          "text": [
            "1\n",
            "2\n",
            "3\n"
          ]
        }
      ]
    },
    {
      "cell_type": "code",
      "source": [
        "# dtype = data type of the element\n",
        "\n",
        "import numpy as np\n",
        "\n",
        "arr = np.array([10, 20, 30, 40.5])\n",
        "print(arr.dtype)"
      ],
      "metadata": {
        "colab": {
          "base_uri": "https://localhost:8080/"
        },
        "id": "I8fExSDB2Uj1",
        "outputId": "1de02a8a-733d-4640-a31f-2ab433780574"
      },
      "execution_count": null,
      "outputs": [
        {
          "output_type": "stream",
          "name": "stdout",
          "text": [
            "float64\n"
          ]
        }
      ]
    },
    {
      "cell_type": "code",
      "source": [
        "# astype = converting the types of the data\n",
        "\n",
        "import numpy as np\n",
        "\n",
        "arr = np.array([10, 20, 30, 40.5])\n",
        "print(arr.dtype)\n",
        "arr = arr.astype(int)\n",
        "print(arr)\n",
        "print(arr.dtype)"
      ],
      "metadata": {
        "colab": {
          "base_uri": "https://localhost:8080/"
        },
        "id": "3gkqLmMe2qSb",
        "outputId": "c6cb09d8-c5f4-48dd-e997-ceebf1c46105"
      },
      "execution_count": null,
      "outputs": [
        {
          "output_type": "stream",
          "name": "stdout",
          "text": [
            "float64\n",
            "[10 20 30 40]\n",
            "int64\n"
          ]
        }
      ]
    },
    {
      "cell_type": "code",
      "source": [
        "# operations\n",
        "\n",
        "import numpy as np\n",
        "\n",
        "arr = np.array([2,3,5,6,6,7])\n",
        "\n",
        "print(arr + 3)\n",
        "print(arr * 4)\n",
        "print(arr ** 2)"
      ],
      "metadata": {
        "colab": {
          "base_uri": "https://localhost:8080/"
        },
        "id": "C4_iuDXR3vFG",
        "outputId": "fa827a59-7304-41f9-c4a8-d63b3766c547"
      },
      "execution_count": null,
      "outputs": [
        {
          "output_type": "stream",
          "name": "stdout",
          "text": [
            "[ 5  6  8  9  9 10]\n",
            "[ 8 12 20 24 24 28]\n",
            "[ 4  9 25 36 36 49]\n"
          ]
        }
      ]
    },
    {
      "cell_type": "code",
      "source": [
        "# aggregations\n",
        "\n",
        "import numpy as np\n",
        "\n",
        "arr = np.array([2,3,4,5,6,7])\n",
        "\n",
        "print(np.sum(arr))\n",
        "print(np.mean(arr))\n",
        "print(np.min(arr))\n",
        "print(np.max(arr))\n",
        "print(np.std(arr))\n",
        "print(np.var(arr))"
      ],
      "metadata": {
        "colab": {
          "base_uri": "https://localhost:8080/"
        },
        "id": "1USYYjbL4JII",
        "outputId": "62f6b562-e8eb-43e8-9265-00722a2a066c"
      },
      "execution_count": null,
      "outputs": [
        {
          "output_type": "stream",
          "name": "stdout",
          "text": [
            "27\n",
            "4.5\n",
            "2\n",
            "7\n",
            "1.707825127659933\n",
            "2.9166666666666665\n"
          ]
        }
      ]
    },
    {
      "cell_type": "markdown",
      "source": [
        "Indexing & slicing"
      ],
      "metadata": {
        "id": "2oxDjiiKfRIN"
      }
    },
    {
      "cell_type": "code",
      "source": [
        "# indexing -> Accessing the single element of the list\n",
        "\n",
        "import numpy as np\n",
        "arr = np.array([1,2,3,4,5])\n",
        "print(arr[2])\n",
        "print(arr[-1])\n"
      ],
      "metadata": {
        "colab": {
          "base_uri": "https://localhost:8080/"
        },
        "id": "mzOGk-qffT8O",
        "outputId": "f6cfc1b7-f691-492e-d39c-26268e9bf5d2"
      },
      "execution_count": null,
      "outputs": [
        {
          "output_type": "stream",
          "name": "stdout",
          "text": [
            "3\n",
            "5\n"
          ]
        }
      ]
    },
    {
      "cell_type": "code",
      "source": [
        "# Slicing -> Accessing the subset/subarray of the data\n",
        "\n",
        "import numpy as np\n",
        "arr = np.array([10,20,30,40,50])\n",
        "\n",
        "print(arr[0:5])\n",
        "print(arr[:4])\n",
        "print(arr[::2])\n",
        "print(arr[::-1])"
      ],
      "metadata": {
        "colab": {
          "base_uri": "https://localhost:8080/"
        },
        "id": "ZHOgjdjlgiLC",
        "outputId": "516e4f4e-005e-4b85-d6f3-e3003f1588b7"
      },
      "execution_count": null,
      "outputs": [
        {
          "output_type": "stream",
          "name": "stdout",
          "text": [
            "[10 20 30 40 50]\n",
            "[10 20 30 40]\n",
            "[10 30 50]\n",
            "[50 40 30 20 10]\n"
          ]
        }
      ]
    },
    {
      "cell_type": "code",
      "source": [
        "# Fancing indexing -> Selecting the multiple element in a single time\n",
        "\n",
        "import numpy as np\n",
        "arr = np.array([10,20,30,40,50])\n",
        "\n",
        "print(arr[[0,2,4]])"
      ],
      "metadata": {
        "colab": {
          "base_uri": "https://localhost:8080/"
        },
        "id": "ATqlDzSUiAYz",
        "outputId": "fbc49554-e93f-47ff-bd0a-3eabd6494e92"
      },
      "execution_count": null,
      "outputs": [
        {
          "output_type": "stream",
          "name": "stdout",
          "text": [
            "[10 30 50]\n"
          ]
        }
      ]
    },
    {
      "cell_type": "code",
      "source": [
        "# Boolean maskin\\g -> Selecting the element based on some condition\n",
        "\n",
        "\n",
        "import numpy as np\n",
        "arr = np.array([10,20,30,40,50])\n",
        "\n",
        "print(arr[arr > 20])\n"
      ],
      "metadata": {
        "colab": {
          "base_uri": "https://localhost:8080/"
        },
        "id": "sWi4bVPqijtb",
        "outputId": "a6fc3406-a53b-45e7-bdb8-da3a08299102"
      },
      "execution_count": null,
      "outputs": [
        {
          "output_type": "stream",
          "name": "stdout",
          "text": [
            "[30 40 50]\n"
          ]
        }
      ]
    },
    {
      "cell_type": "markdown",
      "source": [
        "Reshaping and manipulating"
      ],
      "metadata": {
        "id": "ikpKIm3Mi7PH"
      }
    },
    {
      "cell_type": "code",
      "source": [
        "import numpy as np\n",
        "arr = np.array([10,20,30,40,50,60])\n",
        "\n",
        "print(arr.reshape(2,3))"
      ],
      "metadata": {
        "colab": {
          "base_uri": "https://localhost:8080/"
        },
        "id": "R25hEl85i-MR",
        "outputId": "b69261e8-78cd-44bd-f993-739e109be4cf"
      },
      "execution_count": null,
      "outputs": [
        {
          "output_type": "stream",
          "name": "stdout",
          "text": [
            "[[10 20 30]\n",
            " [40 50 60]]\n"
          ]
        }
      ]
    },
    {
      "cell_type": "code",
      "source": [
        "# ravel() -> view\n",
        "# flatten() -> copy\n",
        "\n",
        "import numpy as np\n",
        "arr = np.array([[1,2],[3,4]])\n",
        "\n",
        "print(arr.ravel())\n",
        "print(arr.flatten())"
      ],
      "metadata": {
        "colab": {
          "base_uri": "https://localhost:8080/"
        },
        "id": "6IfZlXE0kAIr",
        "outputId": "11ca2792-a040-4d7b-dd8b-7ffee1f9d835"
      },
      "execution_count": null,
      "outputs": [
        {
          "output_type": "stream",
          "name": "stdout",
          "text": [
            "[1 2 3 4]\n",
            "[1 2 3 4]\n"
          ]
        }
      ]
    },
    {
      "cell_type": "markdown",
      "source": [
        "Advanced numpy"
      ],
      "metadata": {
        "id": "1DO-m_HYlSBv"
      }
    },
    {
      "cell_type": "code",
      "source": [
        "#  insert -> [arr, index, value, axis] axis -> 0 rowwise, 1 -> columnwise\n",
        "\n",
        "import numpy as np\n",
        "arr = np.array([10,20,30,40,50])\n",
        "\n",
        "print(np.insert(arr, 2, 100))\n",
        "\n",
        "import numpy as np\n",
        "arr = np.array([[1,2],[3,4]])\n",
        "\n",
        "print(np.insert(arr, 1, [5,6], axis=0))"
      ],
      "metadata": {
        "colab": {
          "base_uri": "https://localhost:8080/"
        },
        "id": "ex4CT1CZlVmG",
        "outputId": "ed6f6587-205f-46b1-9062-743fb191e3a7"
      },
      "execution_count": null,
      "outputs": [
        {
          "output_type": "stream",
          "name": "stdout",
          "text": [
            "[ 10  20 100  30  40  50]\n",
            "[[1 2]\n",
            " [5 6]\n",
            " [3 4]]\n"
          ]
        }
      ]
    },
    {
      "cell_type": "code",
      "source": [
        "# append -> adding the element at the end of the array\n",
        "\n",
        "import numpy as np\n",
        "arr = np.array([10,20,30,40,50])\n",
        "\n",
        "print(np.append(arr, 60))\n",
        "\n",
        "import numpy as np\n",
        "arr = np.array([[1,2],[3,4]])\n",
        "\n",
        "print(np.append(arr, [[5,6]], axis=0))\n",
        "\n",
        "# Example of vertical stacking\n",
        "arr1_2d = np.array([[1, 2], [3, 4]])\n",
        "arr2_2d = np.array([[5, 6]])\n",
        "print(np.concatenate((arr1_2d, arr2_2d), axis=0))"
      ],
      "metadata": {
        "colab": {
          "base_uri": "https://localhost:8080/"
        },
        "id": "-IN2ZJuCmzZi",
        "outputId": "f685406f-98b6-4df0-a6a5-4b77d90d0862"
      },
      "execution_count": null,
      "outputs": [
        {
          "output_type": "stream",
          "name": "stdout",
          "text": [
            "[10 20 30 40 50 60]\n",
            "[[1 2]\n",
            " [3 4]\n",
            " [5 6]]\n",
            "[[1 2]\n",
            " [3 4]\n",
            " [5 6]]\n"
          ]
        }
      ]
    },
    {
      "cell_type": "code",
      "source": [
        "# concatenate -> np.concatenate((arr1, arr2), axis = 0)\n",
        "# axis -> 0 means vertical stacking\n",
        "# axis -> 1 mean horizontal stacking\n",
        "\n",
        "import numpy as np\n",
        "arr1 = np.array([1,2,3])\n",
        "arr2 = np.array([4,5,6])\n",
        "\n",
        "print(np.concatenate((arr1, arr2)))\n",
        "print(np.concatenate((arr1, arr2), axis=0))\n"
      ],
      "metadata": {
        "colab": {
          "base_uri": "https://localhost:8080/"
        },
        "id": "vtHHcPHKn0uY",
        "outputId": "0568b981-d121-4a08-b3e3-b9929e7124f6"
      },
      "execution_count": null,
      "outputs": [
        {
          "output_type": "stream",
          "name": "stdout",
          "text": [
            "[1 2 3 4 5 6]\n",
            "[1 2 3 4 5 6]\n"
          ]
        }
      ]
    },
    {
      "cell_type": "code",
      "source": [
        "import numpy as np\n",
        "arr = np.array([10,20,30,40,50])\n",
        "\n",
        "new_arr = print(np.delete(arr, 2))\n",
        "\n",
        "arr_2d = np.array([[1,2],[3,4]])\n",
        "new_2d = print(np.delete(arr_2d, 0, axis=0))"
      ],
      "metadata": {
        "colab": {
          "base_uri": "https://localhost:8080/"
        },
        "id": "zKEGhaygpiuY",
        "outputId": "e8c3a95e-bb5f-4504-8a7e-8735227849fd"
      },
      "execution_count": null,
      "outputs": [
        {
          "output_type": "stream",
          "name": "stdout",
          "text": [
            "[10 20 40 50]\n",
            "[[3 4]]\n"
          ]
        }
      ]
    },
    {
      "cell_type": "code",
      "source": [
        "# stacking\n",
        "\n",
        "import numpy as np\n",
        "\n",
        "arr_1 = np.array([1,2,3])\n",
        "arr_2 = np.array([4,5,6])\n",
        "\n",
        "print(np.vstack((arr_1, arr_2)))\n",
        "print(np.hstack((arr_1, arr_2)))"
      ],
      "metadata": {
        "colab": {
          "base_uri": "https://localhost:8080/"
        },
        "id": "E2rXS5mqr7Vt",
        "outputId": "35a85701-d487-4cc0-bba9-e9003d7e46f9"
      },
      "execution_count": null,
      "outputs": [
        {
          "output_type": "stream",
          "name": "stdout",
          "text": [
            "[[1 2 3]\n",
            " [4 5 6]]\n",
            "[1 2 3 4 5 6]\n"
          ]
        }
      ]
    },
    {
      "cell_type": "code",
      "source": [
        "import numpy as np\n",
        "arr = np.array([10,20,30,40,50,60])\n",
        "\n",
        "print(np.split(arr, 2))"
      ],
      "metadata": {
        "colab": {
          "base_uri": "https://localhost:8080/"
        },
        "id": "Ohg5RKltso0v",
        "outputId": "a91c29fa-9ac6-48f2-eb8c-f0dcb87e9db0"
      },
      "execution_count": null,
      "outputs": [
        {
          "output_type": "stream",
          "name": "stdout",
          "text": [
            "[array([10, 20, 30]), array([40, 50, 60])]\n"
          ]
        }
      ]
    },
    {
      "cell_type": "markdown",
      "source": [
        "Broadcasting : Broadcasting in NumPy is a mechanism that allows arithmetic operations to be performed on arrays of different shapes and sizes. Instead of requiring arrays to have identical shapes for element-wise operations, NumPy automatically \"stretches\" or \"broadcasts\" the smaller array to match the dimensions of the larger array, making them compatible for the operation"
      ],
      "metadata": {
        "id": "LeBTXQ7GU7Ko"
      }
    },
    {
      "cell_type": "code",
      "source": [
        "# without broadcasting\n",
        "\n",
        "prices = [100,200,300,400]\n",
        "discount = 10\n",
        "\n",
        "new_prices = []\n",
        "\n",
        "for price in prices:\n",
        "  final_price = price - (price * discount/100)\n",
        "  new_prices.append(final_price)\n",
        "\n",
        "print(new_prices)"
      ],
      "metadata": {
        "colab": {
          "base_uri": "https://localhost:8080/"
        },
        "id": "5xQUr2BgU9y0",
        "outputId": "7ae08679-1621-4424-d24c-953671b96fa3"
      },
      "execution_count": null,
      "outputs": [
        {
          "output_type": "stream",
          "name": "stdout",
          "text": [
            "[90.0, 180.0, 270.0, 360.0]\n"
          ]
        }
      ]
    },
    {
      "cell_type": "code",
      "source": [
        "import numpy as np\n",
        "prices = np.array([100,200,300,400])\n",
        "discount = 10\n",
        "\n",
        "final_prices = prices - (prices * discount/100)\n",
        "print(final_prices)"
      ],
      "metadata": {
        "colab": {
          "base_uri": "https://localhost:8080/"
        },
        "id": "b7miMncqlraM",
        "outputId": "7aae9485-b3b9-4401-bdb8-418007771876"
      },
      "execution_count": null,
      "outputs": [
        {
          "output_type": "stream",
          "name": "stdout",
          "text": [
            "[ 90. 180. 270. 360.]\n"
          ]
        }
      ]
    },
    {
      "cell_type": "code",
      "source": [
        "import numpy as np\n",
        "arr = np.array([100,200,300,400])\n",
        "print(arr * 2)"
      ],
      "metadata": {
        "colab": {
          "base_uri": "https://localhost:8080/"
        },
        "id": "UafaN0L6mtgv",
        "outputId": "d6c87333-df38-457f-d651-523562a380a1"
      },
      "execution_count": null,
      "outputs": [
        {
          "output_type": "stream",
          "name": "stdout",
          "text": [
            "[200 400 600 800]\n"
          ]
        }
      ]
    },
    {
      "cell_type": "code",
      "source": [
        "import numpy as np\n",
        "matrix = np.array([[1,2,3], [4,5,6]]) #2*3 matrix\n",
        "vector = np.array([10,20,30]) #1d array\n",
        "\n",
        "print(matrix + vector)"
      ],
      "metadata": {
        "colab": {
          "base_uri": "https://localhost:8080/"
        },
        "id": "u3AU3Sa2nJo_",
        "outputId": "9c9dd6db-eaa9-4963-dbe6-ff1d9150a5cc"
      },
      "execution_count": null,
      "outputs": [
        {
          "output_type": "stream",
          "name": "stdout",
          "text": [
            "[[11 22 33]\n",
            " [14 25 36]]\n"
          ]
        }
      ]
    },
    {
      "cell_type": "code",
      "source": [
        "import numpy as np\n",
        "matrix = np.array([[1,2,3], [4,5,6]]) #2*3 matrix\n",
        "vector = np.array([10,20]) #1d array\n",
        "\n",
        "# print(matrix + vector) # error : ValueError: operands could not be broadcast together with shapes (2,3) (2,)\n"
      ],
      "metadata": {
        "id": "S5C-ofZpoSeH"
      },
      "execution_count": null,
      "outputs": []
    },
    {
      "cell_type": "markdown",
      "source": [
        "Handling missing values : To handle the missing value in the data we have 3 builtin functions\n",
        "\n",
        "np.isnan() -> detect the missing values\n",
        "np.nan_to_num() -> it replaces the missing values with some other values\n",
        "np.inf() -> detect the infinte values"
      ],
      "metadata": {
        "id": "59kk43MDp1Xw"
      }
    },
    {
      "cell_type": "code",
      "source": [
        "import numpy as np\n",
        "arr = np.array([1,2,np.nan,4,5,np.nan])\n",
        "\n",
        "print(np.isnan(arr))\n",
        "\n",
        "# interview question : Can we compare the to nan values\n",
        "print(np.nan == np.nan)\n",
        "# Answer for this is no because we cannot directly compare the 2 nan values"
      ],
      "metadata": {
        "colab": {
          "base_uri": "https://localhost:8080/"
        },
        "id": "3veUTiM9p4G7",
        "outputId": "efba03bd-9d19-4b4b-8623-bab6d9f3e392"
      },
      "execution_count": null,
      "outputs": [
        {
          "output_type": "stream",
          "name": "stdout",
          "text": [
            "[False False  True False False  True]\n"
          ]
        }
      ]
    },
    {
      "cell_type": "code",
      "source": [
        "import numpy as np\n",
        "arr = np.array([1,2,np.nan,4,5,np.nan])\n",
        "\n",
        "cleaned_arr = np.nan_to_num(arr) # default replacing value is 0\n",
        "custom_cleaned_arr = np.nan_to_num(arr, nan=100)\n",
        "print(cleaned_arr)\n",
        "print(custom_cleaned_arr)"
      ],
      "metadata": {
        "colab": {
          "base_uri": "https://localhost:8080/"
        },
        "id": "YjYJ4uiQrUeh",
        "outputId": "dec11eaf-f876-4754-c7ef-e30f045433d5"
      },
      "execution_count": null,
      "outputs": [
        {
          "output_type": "stream",
          "name": "stdout",
          "text": [
            "[1. 2. 0. 4. 5. 0.]\n",
            "[  1.   2. 100.   4.   5. 100.]\n"
          ]
        }
      ]
    },
    {
      "cell_type": "code",
      "source": [
        "import numpy as np\n",
        "arr = np.array([1,2,np.inf,4,5,-np.inf])\n",
        "\n",
        "print(np.isinf(arr))"
      ],
      "metadata": {
        "colab": {
          "base_uri": "https://localhost:8080/"
        },
        "id": "xFUAcvCUr9FE",
        "outputId": "20402842-05e1-4721-d0e2-781137e3517a"
      },
      "execution_count": null,
      "outputs": [
        {
          "output_type": "stream",
          "name": "stdout",
          "text": [
            "[False False  True False False  True]\n"
          ]
        }
      ]
    },
    {
      "cell_type": "code",
      "source": [
        "import numpy as np\n",
        "arr = np.array([1,2,np.inf,4,5,-np.inf])\n",
        "\n",
        "cleaned_arr = np.nan_to_num(arr, posinf=1000, neginf=-1000)\n",
        "print(cleaned_arr)"
      ],
      "metadata": {
        "colab": {
          "base_uri": "https://localhost:8080/"
        },
        "id": "LrbaQ9lrsX7K",
        "outputId": "5c3dfee7-17ad-44b5-95a0-d5bdb63440ac"
      },
      "execution_count": null,
      "outputs": [
        {
          "output_type": "stream",
          "name": "stdout",
          "text": [
            "[    1.     2.  1000.     4.     5. -1000.]\n"
          ]
        }
      ]
    },
    {
      "cell_type": "markdown",
      "source": [
        "### ***Pandas***"
      ],
      "metadata": {
        "id": "_g8TUvduOyQu"
      }
    },
    {
      "cell_type": "code",
      "source": [
        "# pandas is a powerful and popular python library designed for data manipulation ( cleaning, transforming & structuring ) and\n",
        "# data analysis ( finding patterns, insights and trends ).\n",
        "# It simplifies working with structured datasets like tables, spreadsheets, or time-series data"
      ],
      "metadata": {
        "id": "4DTBBf5IO4wJ"
      },
      "execution_count": null,
      "outputs": []
    },
    {
      "cell_type": "code",
      "source": [
        "import pandas as pd\n",
        "\n",
        "df = pd.read_csv('Employee.csv')\n",
        "print(df)\n",
        "\n",
        "\n",
        "# similarly we have read_excel() for excel and read_json() for json\n",
        "\n",
        "# gcsfs library -> we can read the data from the cloud"
      ],
      "metadata": {
        "colab": {
          "base_uri": "https://localhost:8080/"
        },
        "id": "8T_VwDYPY0ve",
        "outputId": "cae8f82a-2411-4a13-ed3d-b1320c8bc89b"
      },
      "execution_count": null,
      "outputs": [
        {
          "output_type": "stream",
          "name": "stdout",
          "text": [
            "      Education  JoiningYear       City  PaymentTier  Age  Gender EverBenched  \\\n",
            "0     Bachelors         2017  Bangalore            3   34    Male          No   \n",
            "1     Bachelors         2013       Pune            1   28  Female          No   \n",
            "2     Bachelors         2014  New Delhi            3   38  Female          No   \n",
            "3       Masters         2016  Bangalore            3   27    Male          No   \n",
            "4       Masters         2017       Pune            3   24    Male         Yes   \n",
            "...         ...          ...        ...          ...  ...     ...         ...   \n",
            "4648  Bachelors         2013  Bangalore            3   26  Female          No   \n",
            "4649    Masters         2013       Pune            2   37    Male          No   \n",
            "4650    Masters         2018  New Delhi            3   27    Male          No   \n",
            "4651  Bachelors         2012  Bangalore            3   30    Male         Yes   \n",
            "4652  Bachelors         2015  Bangalore            3   33    Male         Yes   \n",
            "\n",
            "      ExperienceInCurrentDomain  LeaveOrNot  \n",
            "0                             0           0  \n",
            "1                             3           1  \n",
            "2                             2           0  \n",
            "3                             5           1  \n",
            "4                             2           1  \n",
            "...                         ...         ...  \n",
            "4648                          4           0  \n",
            "4649                          2           1  \n",
            "4650                          5           1  \n",
            "4651                          2           0  \n",
            "4652                          4           0  \n",
            "\n",
            "[4653 rows x 9 columns]\n"
          ]
        }
      ]
    },
    {
      "cell_type": "code",
      "source": [
        "import pandas as pd\n",
        "\n",
        "data = {\n",
        "    \"Name\": ['Ram', 'seeta', 'Lashman'],\n",
        "    \"Age\": [25, 30, 35],\n",
        "    \"Salary\": [50000, 60000, 70000]\n",
        "}\n",
        "\n",
        "df = pd.DataFrame(data)\n",
        "print(df)\n",
        "\n",
        "df.to_csv('output.csv', index=False)\n",
        "df.to_excel('output.xlsx', index=False)\n",
        "df.to_json('output.json', index=False)\n"
      ],
      "metadata": {
        "colab": {
          "base_uri": "https://localhost:8080/"
        },
        "id": "grR6G0qYZzbZ",
        "outputId": "fe12260f-26b1-41ad-8924-a6aea2ed3d31"
      },
      "execution_count": null,
      "outputs": [
        {
          "output_type": "stream",
          "name": "stdout",
          "text": [
            "      Name  Age  Salary\n",
            "0      Ram   25   50000\n",
            "1    seeta   30   60000\n",
            "2  Lashman   35   70000\n"
          ]
        }
      ]
    },
    {
      "cell_type": "code",
      "source": [
        "# For quick overview we can use the head and tail methods by default it will shows the\n",
        "# first and last 5 rows of the dataset and we can customise that by passing the value of n.\n",
        "\n",
        "import pandas as pd\n",
        "\n",
        "df = pd.read_csv('Employee.csv')\n",
        "\n",
        "print(df.head())\n",
        "print(df.tail())\n",
        "print(df.head(10))\n",
        "print(df.tail(10))\n"
      ],
      "metadata": {
        "colab": {
          "base_uri": "https://localhost:8080/"
        },
        "id": "-hIKCCH1cYjq",
        "outputId": "ffea9481-f6b1-4122-e186-b025dfcb9e4e"
      },
      "execution_count": null,
      "outputs": [
        {
          "output_type": "stream",
          "name": "stdout",
          "text": [
            "   Education  JoiningYear       City  PaymentTier  Age  Gender EverBenched  \\\n",
            "0  Bachelors         2017  Bangalore            3   34    Male          No   \n",
            "1  Bachelors         2013       Pune            1   28  Female          No   \n",
            "2  Bachelors         2014  New Delhi            3   38  Female          No   \n",
            "3    Masters         2016  Bangalore            3   27    Male          No   \n",
            "4    Masters         2017       Pune            3   24    Male         Yes   \n",
            "\n",
            "   ExperienceInCurrentDomain  LeaveOrNot  \n",
            "0                          0           0  \n",
            "1                          3           1  \n",
            "2                          2           0  \n",
            "3                          5           1  \n",
            "4                          2           1  \n",
            "      Education  JoiningYear       City  PaymentTier  Age  Gender EverBenched  \\\n",
            "4648  Bachelors         2013  Bangalore            3   26  Female          No   \n",
            "4649    Masters         2013       Pune            2   37    Male          No   \n",
            "4650    Masters         2018  New Delhi            3   27    Male          No   \n",
            "4651  Bachelors         2012  Bangalore            3   30    Male         Yes   \n",
            "4652  Bachelors         2015  Bangalore            3   33    Male         Yes   \n",
            "\n",
            "      ExperienceInCurrentDomain  LeaveOrNot  \n",
            "4648                          4           0  \n",
            "4649                          2           1  \n",
            "4650                          5           1  \n",
            "4651                          2           0  \n",
            "4652                          4           0  \n",
            "   Education  JoiningYear       City  PaymentTier  Age  Gender EverBenched  \\\n",
            "0  Bachelors         2017  Bangalore            3   34    Male          No   \n",
            "1  Bachelors         2013       Pune            1   28  Female          No   \n",
            "2  Bachelors         2014  New Delhi            3   38  Female          No   \n",
            "3    Masters         2016  Bangalore            3   27    Male          No   \n",
            "4    Masters         2017       Pune            3   24    Male         Yes   \n",
            "5  Bachelors         2016  Bangalore            3   22    Male          No   \n",
            "6  Bachelors         2015  New Delhi            3   38    Male          No   \n",
            "7  Bachelors         2016  Bangalore            3   34  Female          No   \n",
            "8  Bachelors         2016       Pune            3   23    Male          No   \n",
            "9    Masters         2017  New Delhi            2   37    Male          No   \n",
            "\n",
            "   ExperienceInCurrentDomain  LeaveOrNot  \n",
            "0                          0           0  \n",
            "1                          3           1  \n",
            "2                          2           0  \n",
            "3                          5           1  \n",
            "4                          2           1  \n",
            "5                          0           0  \n",
            "6                          0           0  \n",
            "7                          2           1  \n",
            "8                          1           0  \n",
            "9                          2           0  \n",
            "      Education  JoiningYear       City  PaymentTier  Age  Gender EverBenched  \\\n",
            "4643  Bachelors         2013  Bangalore            3   31  Female          No   \n",
            "4644  Bachelors         2015       Pune            3   32  Female         Yes   \n",
            "4645    Masters         2017       Pune            2   31  Female          No   \n",
            "4646  Bachelors         2013  Bangalore            3   25  Female          No   \n",
            "4647  Bachelors         2016       Pune            3   30    Male          No   \n",
            "4648  Bachelors         2013  Bangalore            3   26  Female          No   \n",
            "4649    Masters         2013       Pune            2   37    Male          No   \n",
            "4650    Masters         2018  New Delhi            3   27    Male          No   \n",
            "4651  Bachelors         2012  Bangalore            3   30    Male         Yes   \n",
            "4652  Bachelors         2015  Bangalore            3   33    Male         Yes   \n",
            "\n",
            "      ExperienceInCurrentDomain  LeaveOrNot  \n",
            "4643                          5           0  \n",
            "4644                          1           1  \n",
            "4645                          2           0  \n",
            "4646                          3           0  \n",
            "4647                          2           0  \n",
            "4648                          4           0  \n",
            "4649                          2           1  \n",
            "4650                          5           1  \n",
            "4651                          2           0  \n",
            "4652                          4           0  \n"
          ]
        }
      ]
    },
    {
      "cell_type": "code",
      "source": [
        "# info() method -> Summarizes the dataset\n",
        "# 1) tells the number of rows & col 2) Col name 3) type 4) Non null values 5) memory usage of dtatframe\n",
        "\n",
        "import pandas as pd\n",
        "\n",
        "df = pd.read_csv('Employee.csv')\n",
        "print(df.info())\n",
        "\n"
      ],
      "metadata": {
        "colab": {
          "base_uri": "https://localhost:8080/"
        },
        "id": "38wuwfGMd4Jh",
        "outputId": "529452e8-9236-4332-ff32-7342fe66e68a"
      },
      "execution_count": null,
      "outputs": [
        {
          "output_type": "stream",
          "name": "stdout",
          "text": [
            "<class 'pandas.core.frame.DataFrame'>\n",
            "RangeIndex: 4653 entries, 0 to 4652\n",
            "Data columns (total 9 columns):\n",
            " #   Column                     Non-Null Count  Dtype \n",
            "---  ------                     --------------  ----- \n",
            " 0   Education                  4653 non-null   object\n",
            " 1   JoiningYear                4653 non-null   int64 \n",
            " 2   City                       4653 non-null   object\n",
            " 3   PaymentTier                4653 non-null   int64 \n",
            " 4   Age                        4653 non-null   int64 \n",
            " 5   Gender                     4653 non-null   object\n",
            " 6   EverBenched                4653 non-null   object\n",
            " 7   ExperienceInCurrentDomain  4653 non-null   int64 \n",
            " 8   LeaveOrNot                 4653 non-null   int64 \n",
            "dtypes: int64(5), object(4)\n",
            "memory usage: 327.3+ KB\n",
            "None\n"
          ]
        }
      ]
    },
    {
      "cell_type": "code",
      "source": [
        "import pandas as pd\n",
        "\n",
        "data = {\n",
        "    \"Name\": ['Ram', 'Seeta', 'Lashman', 'Leela', 'Ravi', 'Teju', 'sharan', 'Mani'],\n",
        "    \"Age\": [25, 30, 35, 21, 30, 30, 28, 36],\n",
        "    \"Salary\": [50000, 60000, 70000, 30000, 400000, 200000, 450000, 48000],\n",
        "    \"Performance\": [80,89,90,90,96,98,96,90]\n",
        "}\n",
        "\n",
        "df = pd.DataFrame(data)\n",
        "print(df)\n",
        "\n",
        "print(\"Descriptive stats\")\n",
        "print(df.describe())\n",
        "\n",
        "# Std -> SD : Its the difference between the values and the mean of the column\n",
        "\"\"\"\n",
        "if the SD is low means we can say that the values are close to the mean and consistent\n",
        "if the SD is high means we can say that the values are far from the mean and inconsistent\n",
        "\"\"\"\n",
        "\n",
        "\"\"\"\n",
        "what is 25%, 50% and 75% in this output ?\n",
        "The answer is\n",
        "\n",
        "25% (1st Quartile): This is the value below which 25% of the data falls. It's also known as the first quartile.\n",
        "50% (2nd Quartile): This is the median value of the data. It's the value that divides the dataset in half, with 50% of the data below it and 50% above it.\n",
        "75% (3rd Quartile): This is the value below which 75% of the data falls. It's also known as the third quartile.\n",
        "\n",
        "\"\"\""
      ],
      "metadata": {
        "colab": {
          "base_uri": "https://localhost:8080/"
        },
        "id": "1FLs6542ht1B",
        "outputId": "bd2979c8-8a89-42e7-a9b5-4c2daba0325f"
      },
      "execution_count": null,
      "outputs": [
        {
          "output_type": "stream",
          "name": "stdout",
          "text": [
            "      Name  Age  Salary  Performance\n",
            "0      Ram   25   50000           80\n",
            "1    Seeta   30   60000           89\n",
            "2  Lashman   35   70000           90\n",
            "3    Leela   21   30000           90\n",
            "4     Ravi   30  400000           96\n",
            "5     Teju   30  200000           98\n",
            "6   sharan   28  450000           96\n",
            "7     Mani   36   48000           90\n",
            "Descriptive stats\n",
            "             Age        Salary  Performance\n",
            "count   8.000000       8.00000     8.000000\n",
            "mean   29.375000  163500.00000    91.125000\n",
            "std     4.897157  170229.25718     5.693041\n",
            "min    21.000000   30000.00000    80.000000\n",
            "25%    27.250000   49500.00000    89.750000\n",
            "50%    30.000000   65000.00000    90.000000\n",
            "75%    31.250000  250000.00000    96.000000\n",
            "max    36.000000  450000.00000    98.000000\n"
          ]
        }
      ]
    },
    {
      "cell_type": "code",
      "source": [
        "import pandas as pd\n",
        "\n",
        "data = {\n",
        "    \"Name\": ['Ram', 'Seeta', 'Lashman', 'Leela', 'Ravi', 'Teju', 'sharan', 'Mani'],\n",
        "    \"Age\": [25, 30, 35, 21, 30, 30, 28, 36],\n",
        "    \"Salary\": [50000, 60000, 70000, 30000, 400000, 200000, 450000, 48000],\n",
        "    \"Performance\": [80,89,90,90,96,98,96,90]\n",
        "}\n",
        "\n",
        "df = pd.DataFrame(data)\n",
        "print(df)\n",
        "print(f'Shape: {df.shape}')\n",
        "print(f'Columns: {df.columns}')\n"
      ],
      "metadata": {
        "colab": {
          "base_uri": "https://localhost:8080/"
        },
        "id": "3CoOwjwTch2K",
        "outputId": "f1307aaa-cc02-4661-8dff-8d0064ca1dbd"
      },
      "execution_count": null,
      "outputs": [
        {
          "output_type": "stream",
          "name": "stdout",
          "text": [
            "      Name  Age  Salary  Performance\n",
            "0      Ram   25   50000           80\n",
            "1    Seeta   30   60000           89\n",
            "2  Lashman   35   70000           90\n",
            "3    Leela   21   30000           90\n",
            "4     Ravi   30  400000           96\n",
            "5     Teju   30  200000           98\n",
            "6   sharan   28  450000           96\n",
            "7     Mani   36   48000           90\n",
            "Shape: (8, 4)\n",
            "Columns: Index(['Name', 'Age', 'Salary', 'Performance'], dtype='object')\n"
          ]
        }
      ]
    },
    {
      "cell_type": "code",
      "source": [
        "import pandas as pd\n",
        "\n",
        "data = {\n",
        "    \"Name\": ['Ram', 'Seeta', 'Lashman', 'Leela', 'Ravi', 'Teju', 'sharan', 'Mani'],\n",
        "    \"Age\": [25, 30, 35, 21, 30, 30, 28, 36],\n",
        "    \"Salary\": [50000, 60000, 70000, 30000, 400000, 200000, 450000, 48000],\n",
        "    \"Performance\": [80,89,90,90,96,98,96,90]\n",
        "}\n",
        "\n",
        "df = pd.DataFrame(data)\n",
        "print(df)\n",
        "\n",
        "# Selecting the single column\n",
        "print('\\n')\n",
        "print(\"Name (single column return series)\")\n",
        "print(df['Name'])\n",
        "\n",
        "# Selecting the multiple column\n",
        "print('\\n')\n",
        "print(\"Name & Salary (multiple column return dataframe)\")\n",
        "print(df[['Name', 'Salary']])\n"
      ],
      "metadata": {
        "colab": {
          "base_uri": "https://localhost:8080/"
        },
        "id": "sddjUlgMe5rR",
        "outputId": "aadbfe7e-299e-4619-e1c8-72b3a2df7ee1"
      },
      "execution_count": null,
      "outputs": [
        {
          "output_type": "stream",
          "name": "stdout",
          "text": [
            "      Name  Age  Salary  Performance\n",
            "0      Ram   25   50000           80\n",
            "1    Seeta   30   60000           89\n",
            "2  Lashman   35   70000           90\n",
            "3    Leela   21   30000           90\n",
            "4     Ravi   30  400000           96\n",
            "5     Teju   30  200000           98\n",
            "6   sharan   28  450000           96\n",
            "7     Mani   36   48000           90\n",
            "\n",
            "\n",
            "Name (single column return series)\n",
            "0        Ram\n",
            "1      Seeta\n",
            "2    Lashman\n",
            "3      Leela\n",
            "4       Ravi\n",
            "5       Teju\n",
            "6     sharan\n",
            "7       Mani\n",
            "Name: Name, dtype: object\n",
            "\n",
            "\n",
            "Name & Salary (multiple column return dataframe)\n",
            "      Name  Salary\n",
            "0      Ram   50000\n",
            "1    Seeta   60000\n",
            "2  Lashman   70000\n",
            "3    Leela   30000\n",
            "4     Ravi  400000\n",
            "5     Teju  200000\n",
            "6   sharan  450000\n",
            "7     Mani   48000\n"
          ]
        }
      ]
    },
    {
      "cell_type": "code",
      "source": [
        "import pandas as pd\n",
        "\n",
        "data = {\n",
        "    \"Name\": ['Ram', 'Seeta', 'Lashman', 'Leela', 'Ravi', 'Teju', 'sharan', 'Mani'],\n",
        "    \"Age\": [25, 30, 35, 21, 30, 30, 28, 36],\n",
        "    \"Salary\": [50000, 60000, 70000, 30000, 400000, 200000, 450000, 48000],\n",
        "    \"Performance\": [80,89,90,90,96,98,96,90]\n",
        "}\n",
        "\n",
        "df = pd.DataFrame(data)\n",
        "print(df)\n",
        "\n",
        "# Employee with salary greater than 50000\n",
        "print('\\n Employees with salaray greater than 50000')\n",
        "print(df[df['Salary'] > 50000])\n",
        "\n",
        "# Employee with salary greater than 50000 & age > 30\n",
        "print('\\n Employees with salaray greater than 50000 and age > 30')\n",
        "print(df[(df['Salary'] > 50000) & (df['Age'] >= 30)])"
      ],
      "metadata": {
        "colab": {
          "base_uri": "https://localhost:8080/"
        },
        "id": "ciyskYw_gFNn",
        "outputId": "bcb0bf90-626b-4237-a936-933610c42f1e"
      },
      "execution_count": null,
      "outputs": [
        {
          "output_type": "stream",
          "name": "stdout",
          "text": [
            "      Name  Age  Salary  Performance\n",
            "0      Ram   25   50000           80\n",
            "1    Seeta   30   60000           89\n",
            "2  Lashman   35   70000           90\n",
            "3    Leela   21   30000           90\n",
            "4     Ravi   30  400000           96\n",
            "5     Teju   30  200000           98\n",
            "6   sharan   28  450000           96\n",
            "7     Mani   36   48000           90\n",
            "\n",
            " Employees with salaray greater than 50000\n",
            "      Name  Age  Salary  Performance\n",
            "1    Seeta   30   60000           89\n",
            "2  Lashman   35   70000           90\n",
            "4     Ravi   30  400000           96\n",
            "5     Teju   30  200000           98\n",
            "6   sharan   28  450000           96\n",
            "\n",
            " Employees with salaray greater than 50000 and age > 30\n",
            "      Name  Age  Salary  Performance\n",
            "1    Seeta   30   60000           89\n",
            "2  Lashman   35   70000           90\n",
            "4     Ravi   30  400000           96\n",
            "5     Teju   30  200000           98\n"
          ]
        }
      ]
    },
    {
      "cell_type": "markdown",
      "source": [
        "# Advanced **Pandas** *italicized text*"
      ],
      "metadata": {
        "id": "yl6hVcjdhgWe"
      }
    },
    {
      "cell_type": "code",
      "source": [
        "# Modifications -> Adding columns\n",
        "\n",
        "import pandas as pd\n",
        "\n",
        "data = {\n",
        "    \"Name\": ['Ram', 'Seeta', 'Lashman', 'Leela', 'Ravi', 'Teju', 'sharan', 'Mani'],\n",
        "    \"Age\": [25, 30, 35, 21, 30, 30, 28, 36],\n",
        "    \"Salary\": [50000, 60000, 70000, 30000, 400000, 200000, 450000, 48000],\n",
        "    \"Performance\": [80,89,90,90,96,98,96,90]\n",
        "}\n",
        "\n",
        "df = pd.DataFrame(data)\n",
        "print(df)\n",
        "\n",
        "df['Bonus'] = df['Salary'] * 0.1\n",
        "print(df)\n",
        "\n",
        "# Using insert\n",
        "\n",
        "# df.insert(loc, column_name, data)\n",
        "\n",
        "df.insert(0, 'Employee_ID', [10,20,30,40,50,60,70,80])\n",
        "print(df)"
      ],
      "metadata": {
        "colab": {
          "base_uri": "https://localhost:8080/"
        },
        "id": "LBJ6bcNUW5sr",
        "outputId": "0c96c6b1-6b91-4628-85e8-aa5d64d484af"
      },
      "execution_count": null,
      "outputs": [
        {
          "output_type": "stream",
          "name": "stdout",
          "text": [
            "      Name  Age  Salary  Performance\n",
            "0      Ram   25   50000           80\n",
            "1    Seeta   30   60000           89\n",
            "2  Lashman   35   70000           90\n",
            "3    Leela   21   30000           90\n",
            "4     Ravi   30  400000           96\n",
            "5     Teju   30  200000           98\n",
            "6   sharan   28  450000           96\n",
            "7     Mani   36   48000           90\n",
            "      Name  Age  Salary  Performance    Bonus\n",
            "0      Ram   25   50000           80   5000.0\n",
            "1    Seeta   30   60000           89   6000.0\n",
            "2  Lashman   35   70000           90   7000.0\n",
            "3    Leela   21   30000           90   3000.0\n",
            "4     Ravi   30  400000           96  40000.0\n",
            "5     Teju   30  200000           98  20000.0\n",
            "6   sharan   28  450000           96  45000.0\n",
            "7     Mani   36   48000           90   4800.0\n",
            "   Employee_ID     Name  Age  Salary  Performance    Bonus\n",
            "0           10      Ram   25   50000           80   5000.0\n",
            "1           20    Seeta   30   60000           89   6000.0\n",
            "2           30  Lashman   35   70000           90   7000.0\n",
            "3           40    Leela   21   30000           90   3000.0\n",
            "4           50     Ravi   30  400000           96  40000.0\n",
            "5           60     Teju   30  200000           98  20000.0\n",
            "6           70   sharan   28  450000           96  45000.0\n",
            "7           80     Mani   36   48000           90   4800.0\n"
          ]
        }
      ]
    },
    {
      "cell_type": "code",
      "source": [
        "import pandas as pd\n",
        "\n",
        "data = {\n",
        "    \"Name\": ['Ram', 'Seeta', 'Lashman', 'Leela', 'Ravi', 'Teju', 'sharan', 'Mani'],\n",
        "    \"Age\": [25, 30, 35, 21, 30, 30, 28, 36],\n",
        "    \"Salary\": [50000, 60000, 70000, 30000, 400000, 200000, 450000, 48000],\n",
        "    \"Performance\": [80,89,90,90,96,98,96,90]\n",
        "}\n",
        "\n",
        "df = pd.DataFrame(data)\n",
        "print(df)\n",
        "\n",
        "# update -> df.loc(row_index, col_name)\n",
        "\n",
        "df.loc[0, 'Salary'] = 70000\n",
        "print(df)"
      ],
      "metadata": {
        "colab": {
          "base_uri": "https://localhost:8080/"
        },
        "id": "W3me0t4_X8so",
        "outputId": "664cd1c5-1776-4bdf-c670-d7b455cdf6b4"
      },
      "execution_count": null,
      "outputs": [
        {
          "output_type": "stream",
          "name": "stdout",
          "text": [
            "      Name  Age  Salary  Performance\n",
            "0      Ram   25   50000           80\n",
            "1    Seeta   30   60000           89\n",
            "2  Lashman   35   70000           90\n",
            "3    Leela   21   30000           90\n",
            "4     Ravi   30  400000           96\n",
            "5     Teju   30  200000           98\n",
            "6   sharan   28  450000           96\n",
            "7     Mani   36   48000           90\n",
            "      Name  Age  Salary  Performance\n",
            "0      Ram   25   70000           80\n",
            "1    Seeta   30   60000           89\n",
            "2  Lashman   35   70000           90\n",
            "3    Leela   21   30000           90\n",
            "4     Ravi   30  400000           96\n",
            "5     Teju   30  200000           98\n",
            "6   sharan   28  450000           96\n",
            "7     Mani   36   48000           90\n"
          ]
        }
      ]
    },
    {
      "cell_type": "code",
      "source": [
        "import pandas as pd\n",
        "\n",
        "data = {\n",
        "    \"Name\": ['Ram', 'Seeta', 'Lashman', 'Leela', 'Ravi', 'Teju', 'sharan', 'Mani'],\n",
        "    \"Age\": [25, 30, 35, 21, 30, 30, 28, 36],\n",
        "    \"Salary\": [50000, 60000, 70000, 30000, 400000, 200000, 450000, 48000],\n",
        "    \"Performance\": [80,89,90,90,96,98,96,90]\n",
        "}\n",
        "\n",
        "df = pd.DataFrame(data)\n",
        "print(df)\n",
        "\n",
        "# remove -> df.drop(columns=['Performance'], inplace=False)\n",
        "\n",
        "df.drop(columns=['Performance'], inplace=True)\n",
        "print(df)"
      ],
      "metadata": {
        "colab": {
          "base_uri": "https://localhost:8080/"
        },
        "id": "RcdPL29CZUyW",
        "outputId": "bd4f410d-3220-4813-a07b-9115b367738c"
      },
      "execution_count": null,
      "outputs": [
        {
          "output_type": "stream",
          "name": "stdout",
          "text": [
            "      Name  Age  Salary  Performance\n",
            "0      Ram   25   50000           80\n",
            "1    Seeta   30   60000           89\n",
            "2  Lashman   35   70000           90\n",
            "3    Leela   21   30000           90\n",
            "4     Ravi   30  400000           96\n",
            "5     Teju   30  200000           98\n",
            "6   sharan   28  450000           96\n",
            "7     Mani   36   48000           90\n",
            "      Name  Age  Salary\n",
            "0      Ram   25   50000\n",
            "1    Seeta   30   60000\n",
            "2  Lashman   35   70000\n",
            "3    Leela   21   30000\n",
            "4     Ravi   30  400000\n",
            "5     Teju   30  200000\n",
            "6   sharan   28  450000\n",
            "7     Mani   36   48000\n"
          ]
        }
      ]
    },
    {
      "cell_type": "code",
      "source": [
        "# Missing data\n",
        "\n",
        "import pandas as pd\n",
        "\n",
        "data = {\n",
        "    \"Name\": ['Ram', None, 'Lashman', 'Leela', 'Ravi', 'Teju', 'sharan', 'Mani'],\n",
        "    \"Age\": [25, None, 35, 21, 30, 30, 28, 36],\n",
        "    \"Salary\": [50000, None, 70000, 30000, 400000, 200000, 450000, 48000],\n",
        "    \"Performance\": [80,None,90,90,96,98,96,90]\n",
        "}\n",
        "\n",
        "df = pd.DataFrame(data)\n",
        "print(df)\n",
        "\n",
        "print(df.isnull())\n",
        "print(df.isnull().sum())"
      ],
      "metadata": {
        "colab": {
          "base_uri": "https://localhost:8080/"
        },
        "id": "Jut5CKOnatZG",
        "outputId": "095567c5-1999-43a0-8d2b-31591ff6a429"
      },
      "execution_count": null,
      "outputs": [
        {
          "output_type": "stream",
          "name": "stdout",
          "text": [
            "      Name   Age    Salary  Performance\n",
            "0      Ram  25.0   50000.0         80.0\n",
            "1     None   NaN       NaN          NaN\n",
            "2  Lashman  35.0   70000.0         90.0\n",
            "3    Leela  21.0   30000.0         90.0\n",
            "4     Ravi  30.0  400000.0         96.0\n",
            "5     Teju  30.0  200000.0         98.0\n",
            "6   sharan  28.0  450000.0         96.0\n",
            "7     Mani  36.0   48000.0         90.0\n",
            "    Name    Age  Salary  Performance\n",
            "0  False  False   False        False\n",
            "1   True   True    True         True\n",
            "2  False  False   False        False\n",
            "3  False  False   False        False\n",
            "4  False  False   False        False\n",
            "5  False  False   False        False\n",
            "6  False  False   False        False\n",
            "7  False  False   False        False\n",
            "Name           1\n",
            "Age            1\n",
            "Salary         1\n",
            "Performance    1\n",
            "dtype: int64\n"
          ]
        }
      ]
    },
    {
      "cell_type": "code",
      "source": [
        "# Handling the missing values\n",
        "\n",
        "import pandas as pd\n",
        "\n",
        "data = {\n",
        "    \"Name\": ['Ram', None, 'Lashman', 'Leela', 'Ravi', 'Teju', 'sharan', 'Mani'],\n",
        "    \"Age\": [25, 45, 35, 21, 30, 30, 28, 36],\n",
        "    \"Salary\": [50000, None, 70000, 30000, 400000, 200000, 450000, 48000],\n",
        "    \"Performance\": [80,None,90,90,96,98,96,90]\n",
        "}\n",
        "\n",
        "df = pd.DataFrame(data)\n",
        "print(df)\n",
        "\n",
        "df.dropna(inplace=True)\n",
        "print(df)\n",
        "\n",
        "# In this method it will remove the entire row and column of that missing data\n",
        "# so if their is frequent occurence then the entire data may vanish\n",
        "\n",
        "# Handling method 2 using fillna()\n",
        "\n",
        "\n",
        "import pandas as pd\n",
        "\n",
        "data = {\n",
        "    \"Name\": ['Ram', None, 'Lashman', 'Leela', 'Ravi', 'Teju', 'sharan', 'Mani'],\n",
        "    \"Age\": [25, None, 35, 21, 30, 30, 28, 36],\n",
        "    \"Salary\": [50000, None, 70000, 30000, 400000, 200000, 450000, 48000],\n",
        "    \"Performance\": [80,None,90,90,96,98,96,90]\n",
        "}\n",
        "\n",
        "df = pd.DataFrame(data)\n",
        "print(df)\n",
        "\n",
        "# df.fillna(0, inplace=True)\n",
        "\"\"\"\n",
        "print(\"\\n fill the calculated value\")\n",
        "df['Age'].fillna(df['Age'].mean(), inplace=True)\n",
        "print(df)\n",
        "\"\"\""
      ],
      "metadata": {
        "colab": {
          "base_uri": "https://localhost:8080/",
          "height": 487
        },
        "id": "KeDnTkR1bG8I",
        "outputId": "3e5f54ac-277c-4a5a-f6ea-682b0479fd17"
      },
      "execution_count": null,
      "outputs": [
        {
          "output_type": "stream",
          "name": "stdout",
          "text": [
            "      Name  Age    Salary  Performance\n",
            "0      Ram   25   50000.0         80.0\n",
            "1     None   45       NaN          NaN\n",
            "2  Lashman   35   70000.0         90.0\n",
            "3    Leela   21   30000.0         90.0\n",
            "4     Ravi   30  400000.0         96.0\n",
            "5     Teju   30  200000.0         98.0\n",
            "6   sharan   28  450000.0         96.0\n",
            "7     Mani   36   48000.0         90.0\n",
            "      Name  Age    Salary  Performance\n",
            "0      Ram   25   50000.0         80.0\n",
            "2  Lashman   35   70000.0         90.0\n",
            "3    Leela   21   30000.0         90.0\n",
            "4     Ravi   30  400000.0         96.0\n",
            "5     Teju   30  200000.0         98.0\n",
            "6   sharan   28  450000.0         96.0\n",
            "7     Mani   36   48000.0         90.0\n",
            "      Name   Age    Salary  Performance\n",
            "0      Ram  25.0   50000.0         80.0\n",
            "1     None   NaN       NaN          NaN\n",
            "2  Lashman  35.0   70000.0         90.0\n",
            "3    Leela  21.0   30000.0         90.0\n",
            "4     Ravi  30.0  400000.0         96.0\n",
            "5     Teju  30.0  200000.0         98.0\n",
            "6   sharan  28.0  450000.0         96.0\n",
            "7     Mani  36.0   48000.0         90.0\n"
          ]
        },
        {
          "output_type": "execute_result",
          "data": {
            "text/plain": [
              "'\\nprint(\"\\n fill the calculated value\")\\ndf[\\'Age\\'].fillna(df[\\'Age\\'].mean(), inplace=True)\\nprint(df)\\n'"
            ],
            "application/vnd.google.colaboratory.intrinsic+json": {
              "type": "string"
            }
          },
          "metadata": {},
          "execution_count": 21
        }
      ]
    },
    {
      "cell_type": "code",
      "source": [
        "# Interpolation -> It fills the missing values with the estimated values\n",
        "\n",
        "\"\"\"\n",
        "1 - preserve the data integrity\n",
        "2 - smooth trends\n",
        "3 - avoid data loss\n",
        "\"\"\"\n",
        "\n",
        "import pandas as pd\n",
        "\n",
        "data = {\n",
        "    \"Time\": [1,2,3,4,5],\n",
        "    \"Value\": [10,None,30,None,50]\n",
        "}\n",
        "\n",
        "df = pd.DataFrame(data)\n",
        "print(df)\n",
        "\n",
        "df['Value'] = df['Value'].interpolate(method='linear')\n",
        "print(df)\n"
      ],
      "metadata": {
        "id": "wdw8qM3AgoMm",
        "colab": {
          "base_uri": "https://localhost:8080/"
        },
        "outputId": "1b915cce-d23e-468c-c7d6-85088ae0507f"
      },
      "execution_count": null,
      "outputs": [
        {
          "output_type": "stream",
          "name": "stdout",
          "text": [
            "   Time  Value\n",
            "0     1   10.0\n",
            "1     2    NaN\n",
            "2     3   30.0\n",
            "3     4    NaN\n",
            "4     5   50.0\n",
            "   Time  Value\n",
            "0     1   10.0\n",
            "1     2   20.0\n",
            "2     3   30.0\n",
            "3     4   40.0\n",
            "4     5   50.0\n"
          ]
        }
      ]
    },
    {
      "cell_type": "markdown",
      "source": [
        "Sorting & Aggregation"
      ],
      "metadata": {
        "id": "UCcYwY2hjCRj"
      }
    },
    {
      "cell_type": "code",
      "source": [
        "import pandas as pd\n",
        "\n",
        "data = {\n",
        "    \"Name\": ['Arun', 'Karun', 'Tarun', 'Sarun', 'Marun'],\n",
        "    \"Age\": [25, 30, 35, 25, 30],\n",
        "    \"Salary\": [50000, 60000, 70000, 30000, 400000]\n",
        "}\n",
        "\n",
        "df = pd.DataFrame(data)\n",
        "\n",
        "print(\"\\n Desecnding\")\n",
        "df.sort_values(by=\"Age\", ascending=False, inplace=True)\n",
        "print(df)\n",
        "\n",
        "print(\"\\n Ascending\")\n",
        "df.sort_values(by=\"Age\", ascending=True, inplace=True)\n",
        "print(df)\n",
        "\n",
        "print(\"\\n Sort multiple columns\")\n",
        "df.sort_values(by=['Age', 'Salary'], ascending=[False, True], inplace=True)\n",
        "print(df)\n"
      ],
      "metadata": {
        "colab": {
          "base_uri": "https://localhost:8080/"
        },
        "id": "-xPPxJhljE7g",
        "outputId": "e929fec6-0322-4097-a718-3fa5978d7b59"
      },
      "execution_count": null,
      "outputs": [
        {
          "output_type": "stream",
          "name": "stdout",
          "text": [
            "\n",
            " Desecnding\n",
            "    Name  Age  Salary\n",
            "2  Tarun   35   70000\n",
            "4  Marun   30  400000\n",
            "1  Karun   30   60000\n",
            "0   Arun   25   50000\n",
            "3  Sarun   21   30000\n",
            "\n",
            " Ascending\n",
            "    Name  Age  Salary\n",
            "3  Sarun   21   30000\n",
            "0   Arun   25   50000\n",
            "1  Karun   30   60000\n",
            "4  Marun   30  400000\n",
            "2  Tarun   35   70000\n",
            "\n",
            " Sort multiple columns\n",
            "    Name  Age  Salary\n",
            "2  Tarun   35   70000\n",
            "1  Karun   30   60000\n",
            "4  Marun   30  400000\n",
            "0   Arun   25   50000\n",
            "3  Sarun   21   30000\n"
          ]
        }
      ]
    },
    {
      "cell_type": "code",
      "source": [
        "# Grouping\n",
        "\n",
        "import pandas as pd\n",
        "\n",
        "data = {\n",
        "    \"Name\": ['Arun', 'Karun', 'Tarun', 'Sarun', 'Marun'],\n",
        "    \"Age\": [25, 30, 35, 25, 30],\n",
        "    \"Salary\": [50000, 60000, 70000, 30000, 30000]\n",
        "}\n",
        "\n",
        "df = pd.DataFrame(data)\n",
        "\n",
        "grouped = df.groupby(['Age', 'Name'])['Salary'].sum();\n",
        "print(grouped)\n"
      ],
      "metadata": {
        "colab": {
          "base_uri": "https://localhost:8080/"
        },
        "id": "cJBDJCfBlADD",
        "outputId": "9be3d3de-96dd-42b8-e6e8-9a2240306718"
      },
      "execution_count": null,
      "outputs": [
        {
          "output_type": "stream",
          "name": "stdout",
          "text": [
            "Age  Name \n",
            "25   Arun     50000\n",
            "     Sarun    30000\n",
            "30   Karun    60000\n",
            "     Marun    30000\n",
            "35   Tarun    70000\n",
            "Name: Salary, dtype: int64\n"
          ]
        }
      ]
    },
    {
      "cell_type": "markdown",
      "source": [
        "Merging"
      ],
      "metadata": {
        "id": "vi3fMjx5O2G4"
      }
    },
    {
      "cell_type": "code",
      "source": [
        "import pandas as pd\n",
        "\n",
        "df_customers = pd.DataFrame({\n",
        "    'customer_id': [1, 2, 3, 4],\n",
        "    'name': ['Alice', 'Bob', 'Charlie', 'David']\n",
        "})\n",
        "\n",
        "df_orders = pd.DataFrame({\n",
        "    'order_id': [101, 102, 103, 104],\n",
        "    'customer_id': [1, 2, 3, 6]\n",
        "})\n",
        "\n",
        "df_merged = pd.merge(df_customers, df_orders, on='customer_id', how='inner')\n",
        "print(\"Inner join\")\n",
        "print(df_merged)\n",
        "\n",
        "df_merged = pd.merge(df_customers, df_orders, on='customer_id', how='left')\n",
        "print(\"left join\")\n",
        "print(df_merged)\n",
        "\n",
        "df_merged = pd.merge(df_customers, df_orders, on='customer_id', how='right')\n",
        "print(\"right join\")\n",
        "print(df_merged)\n",
        "\n",
        "df_merged = pd.merge(df_customers, df_orders, on='customer_id', how='outer')\n",
        "print(\"outer join\")\n",
        "print(df_merged)"
      ],
      "metadata": {
        "colab": {
          "base_uri": "https://localhost:8080/"
        },
        "id": "G2xG9-W5O3rT",
        "outputId": "b48f3ac1-5a34-4a83-882c-6c9220f5c4cd"
      },
      "execution_count": null,
      "outputs": [
        {
          "output_type": "stream",
          "name": "stdout",
          "text": [
            "Inner join\n",
            "   customer_id     name  order_id\n",
            "0            1    Alice       101\n",
            "1            2      Bob       102\n",
            "2            3  Charlie       103\n",
            "left join\n",
            "   customer_id     name  order_id\n",
            "0            1    Alice     101.0\n",
            "1            2      Bob     102.0\n",
            "2            3  Charlie     103.0\n",
            "3            4    David       NaN\n",
            "right join\n",
            "   customer_id     name  order_id\n",
            "0            1    Alice       101\n",
            "1            2      Bob       102\n",
            "2            3  Charlie       103\n",
            "3            6      NaN       104\n",
            "outer join\n",
            "   customer_id     name  order_id\n",
            "0            1    Alice     101.0\n",
            "1            2      Bob     102.0\n",
            "2            3  Charlie     103.0\n",
            "3            4    David       NaN\n",
            "4            6      NaN     104.0\n"
          ]
        }
      ]
    },
    {
      "cell_type": "code",
      "source": [
        "import pandas as pd\n",
        "\n",
        "df_region1 = pd.DataFrame({\n",
        "    'region_id': [1, 2, 3],\n",
        "    'region_name': ['North', 'South', 'East']\n",
        "})\n",
        "\n",
        "df_region2 = pd.DataFrame({\n",
        "    'region_id': [4, 5, 6],\n",
        "    'region_name': ['West', 'Central', 'North']\n",
        "})\n",
        "\n",
        "df_combined = pd.concat([df_region1, df_region2], ignore_index = True)\n",
        "print(df_combined)\n",
        "\n",
        "print('\\n Horizantal combine')\n",
        "df_combined1 = pd.concat([df_region1, df_region2], axis = 1, ignore_index = True)\n",
        "print(df_combined1)"
      ],
      "metadata": {
        "colab": {
          "base_uri": "https://localhost:8080/"
        },
        "id": "GPBVC02Ba3zx",
        "outputId": "a5788312-ec88-4f40-a2d8-a38daf9e6d67"
      },
      "execution_count": null,
      "outputs": [
        {
          "output_type": "stream",
          "name": "stdout",
          "text": [
            "   region_id region_name\n",
            "0          1       North\n",
            "1          2       South\n",
            "2          3        East\n",
            "3          4        West\n",
            "4          5     Central\n",
            "5          6       North\n",
            "\n",
            " Horizantal combine\n",
            "   0      1  2        3\n",
            "0  1  North  4     West\n",
            "1  2  South  5  Central\n",
            "2  3   East  6    North\n"
          ]
        }
      ]
    },
    {
      "cell_type": "markdown",
      "source": [
        "***Matplotlib***"
      ],
      "metadata": {
        "id": "oBzm3gIHWIeM"
      }
    },
    {
      "cell_type": "code",
      "source": [
        "# matplotlib -> main package, pyplot -> module\n",
        "\n",
        "import matplotlib.pyplot as plt\n",
        "\n",
        "x = [1,2,3,4] # x-axis\n",
        "y = [10,30,15,25] # y-axis\n",
        "\n",
        "plt.plot(x,y)\n",
        "plt.show()"
      ],
      "metadata": {
        "id": "v-xTTYd1WLmw",
        "colab": {
          "base_uri": "https://localhost:8080/",
          "height": 430
        },
        "outputId": "7bb305b5-4c01-4900-9ab4-dbd005da1857"
      },
      "execution_count": 1,
      "outputs": [
        {
          "output_type": "display_data",
          "data": {
            "text/plain": [
              "<Figure size 640x480 with 1 Axes>"
            ],
            "image/png": "[encoded data removed]"
          },
          "metadata": {}
        }
      ]
    },
    {
      "cell_type": "code",
      "source": [
        "import matplotlib.pyplot as plt\n",
        "\n",
        "x = ['Mon', 'Tue', 'Wed', 'Thur', 'Fri']\n",
        "y = [10, 7, 15, 20, 3]\n",
        "\n",
        "plt.plot(x,y)\n",
        "\n",
        "plt.title('Bakery Sales Analysis')\n",
        "plt.xlabel('Days')\n",
        "plt.ylabel('Sales')\n",
        "\n",
        "plt.show()"
      ],
      "metadata": {
        "colab": {
          "base_uri": "https://localhost:8080/",
          "height": 472
        },
        "id": "_To3O1wHuUTK",
        "outputId": "6ff199cf-30f6-4509-efe4-e1b55b37cffd"
      },
      "execution_count": 3,
      "outputs": [
        {
          "output_type": "display_data",
          "data": {
            "text/plain": [
              "<Figure size 640x480 with 1 Axes>"
            ],
            "image/png": "[encoded data removed]"
          },
          "metadata": {}
        }
      ]
    },
    {
      "cell_type": "markdown",
      "source": [
        "Functions"
      ],
      "metadata": {
        "id": "LJEHVPrk35gP"
      }
    },
    {
      "cell_type": "code",
      "source": [
        "import matplotlib.pyplot as plt\n",
        "\n",
        "months = [1,2,3,4,5]\n",
        "sales = [1000, 2000, 1500, 2500, 1700]\n",
        "\n",
        "plt.xlabel('Month')\n",
        "plt.ylabel('Sales')\n",
        "plt.title('Bakery Sales Analysis')\n",
        "\n",
        "plt.plot(months,sales, color='red', linestyle='--', linewidth=2, marker='o', label='Sales')\n",
        "plt.legend(loc='upper left', fontsize=12)\n",
        "plt.grid(color='grey', linestyle=':', linewidth=1)\n",
        "plt.xlim(1, 4)\n",
        "plt.ylim(1000, 2500)\n",
        "plt.xticks([1,2,3,4], ['M1', 'M2', 'M3', 'M4'])\n",
        "plt.show()\n",
        "\n"
      ],
      "metadata": {
        "colab": {
          "base_uri": "https://localhost:8080/",
          "height": 472
        },
        "id": "w3S2oQCE0FuY",
        "outputId": "d5411e64-767c-48fa-8cfc-6bab65a8fd2a"
      },
      "execution_count": 22,
      "outputs": [
        {
          "output_type": "display_data",
          "data": {
            "text/plain": [
              "<Figure size 640x480 with 1 Axes>"
            ],
            "image/png": "[encoded data removed]"
          },
          "metadata": {}
        }
      ]
    }
  ]
}